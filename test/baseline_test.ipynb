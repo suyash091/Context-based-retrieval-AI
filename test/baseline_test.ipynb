{
  "nbformat": 4,
  "nbformat_minor": 0,
  "metadata": {
    "colab": {
      "name": "UbuntuCorpusV2",
      "provenance": [],
      "mount_file_id": "1oBDPDCWsyz0w8bHN2edIFvLRdz6ddV_Q",
      "authorship_tag": "ABX9TyNa6svrffJqSNiFW8zqVV+i",
      "include_colab_link": true
    },
    "kernelspec": {
      "name": "python3",
      "display_name": "Python 3"
    }
  },
  "cells": [
    {
      "cell_type": "markdown",
      "metadata": {
        "id": "view-in-github",
        "colab_type": "text"
      },
      "source": [
        "<a href=\"https://colab.research.google.com/github/suyash091/Context-based-retrieval-AI/blob/master/test/baseline_test.ipynb\" target=\"_parent\"><img src=\"https://colab.research.google.com/assets/colab-badge.svg\" alt=\"Open In Colab\"/></a>"
      ]
    },
    {
      "cell_type": "code",
      "metadata": {
        "id": "_TTIz2ppSfWh",
        "colab_type": "code",
        "colab": {
          "base_uri": "https://localhost:8080/",
          "height": 82
        },
        "outputId": "041f0441-a47b-4987-efcc-d7654919feed"
      },
      "source": [
        "!python2"
      ],
      "execution_count": 32,
      "outputs": [
        {
          "output_type": "stream",
          "text": [
            "Python 2.7.17 (default, Apr 15 2020, 17:20:14) \n",
            "[GCC 7.5.0] on linux2\n",
            "Type \"help\", \"copyright\", \"credits\" or \"license\" for more information.\n",
            ">>> quit()\n"
          ],
          "name": "stdout"
        }
      ]
    },
    {
      "cell_type": "code",
      "metadata": {
        "id": "DV42P8p0ThQc",
        "colab_type": "code",
        "colab": {
          "base_uri": "https://localhost:8080/",
          "height": 183
        },
        "outputId": "318a9548-c3d7-4e9f-e502-09a305df3c9c"
      },
      "source": [
        "!pip2.7 install unicodecsv"
      ],
      "execution_count": 44,
      "outputs": [
        {
          "output_type": "stream",
          "text": [
            "Collecting unicodecsv\n",
            "  Using cached https://files.pythonhosted.org/packages/6f/a4/691ab63b17505a26096608cc309960b5a6bdf39e4ba1a793d5f9b1a53270/unicodecsv-0.14.1.tar.gz\n",
            "Building wheels for collected packages: unicodecsv\n",
            "  Building wheel for unicodecsv (setup.py) ... \u001b[?25l\u001b[?25hdone\n",
            "  Created wheel for unicodecsv: filename=unicodecsv-0.14.1-cp27-none-any.whl size=10768 sha256=7db6cee5acf98d32011307044cb2fe83a8a92735415f22df4b85f7334a77e304\n",
            "  Stored in directory: /root/.cache/pip/wheels/a6/09/e9/e800279c98a0a8c94543f3de6c8a562f60e51363ed26e71283\n",
            "Successfully built unicodecsv\n",
            "Installing collected packages: unicodecsv\n",
            "Successfully installed unicodecsv-0.14.1\n"
          ],
          "name": "stdout"
        }
      ]
    },
    {
      "cell_type": "code",
      "metadata": {
        "id": "-eJ5lVDw5L4Z",
        "colab_type": "code",
        "colab": {
          "base_uri": "https://localhost:8080/",
          "height": 33
        },
        "outputId": "cb11f5a3-4745-4695-c18f-8482bd5c24af"
      },
      "source": [
        "!git clone https://github.com/suyash091/Context-based-retrieval-AI.git"
      ],
      "execution_count": 78,
      "outputs": [
        {
          "output_type": "stream",
          "text": [
            "fatal: not a git repository (or any of the parent directories): .git\n"
          ],
          "name": "stdout"
        }
      ]
    },
    {
      "cell_type": "code",
      "metadata": {
        "id": "JtaoFh-RTNoF",
        "colab_type": "code",
        "colab": {}
      },
      "source": [
        "!chmod +x /content/ubuntu-ranking-dataset-creator/src/generate.sh"
      ],
      "execution_count": 0,
      "outputs": []
    },
    {
      "cell_type": "code",
      "metadata": {
        "id": "2FInsZjNRl4D",
        "colab_type": "code",
        "colab": {}
      },
      "source": [
        "!cd /content/Context-based-retrieval-AI/build_dataset/src && ./generate.sh -t -s -l"
      ],
      "execution_count": 0,
      "outputs": []
    },
    {
      "cell_type": "code",
      "metadata": {
        "id": "GtV8sRcq7Stt",
        "colab_type": "code",
        "colab": {
          "base_uri": "https://localhost:8080/",
          "height": 196
        },
        "outputId": "306a26d1-153a-42a6-f7dd-4c72510c647a"
      },
      "source": [
        "!cd /content/Context-based-retrieval-AI && git pull"
      ],
      "execution_count": 86,
      "outputs": [
        {
          "output_type": "stream",
          "text": [
            "remote: Enumerating objects: 5, done.\u001b[K\n",
            "remote: Counting objects:  20% (1/5)\u001b[K\rremote: Counting objects:  40% (2/5)\u001b[K\rremote: Counting objects:  60% (3/5)\u001b[K\rremote: Counting objects:  80% (4/5)\u001b[K\rremote: Counting objects: 100% (5/5)\u001b[K\rremote: Counting objects: 100% (5/5), done.\u001b[K\n",
            "remote: Compressing objects: 100% (1/1)\u001b[K\rremote: Compressing objects: 100% (1/1), done.\u001b[K\n",
            "remote: Total 3 (delta 2), reused 3 (delta 2), pack-reused 0\u001b[K\n",
            "Unpacking objects:  33% (1/3)   \rUnpacking objects:  66% (2/3)   \rUnpacking objects: 100% (3/3)   \rUnpacking objects: 100% (3/3), done.\n",
            "From https://github.com/suyash091/Context-based-retrieval-AI\n",
            "   ec4a7d9..e27e2cd  master     -> origin/master\n",
            "Updating ec4a7d9..e27e2cd\n",
            "Fast-forward\n",
            " baseline.py | 1 \u001b[32m+\u001b[m\n",
            " 1 file changed, 1 insertion(+)\n"
          ],
          "name": "stdout"
        }
      ]
    },
    {
      "cell_type": "code",
      "metadata": {
        "id": "13SigkXc5kfv",
        "colab_type": "code",
        "colab": {
          "base_uri": "https://localhost:8080/",
          "height": 196
        },
        "outputId": "d71eb30a-3276-4243-c784-db19f5312bdb"
      },
      "source": [
        "!python3 /content/Context-based-retrieval-AI/baseline.py /content/Context-based-retrieval-AI/build_dataset/src/train.csv /content/Context-based-retrieval-AI/build_dataset/src/test.csv"
      ],
      "execution_count": 87,
      "outputs": [
        {
          "output_type": "stream",
          "text": [
            "Random Model Score:\n",
            "Recall @ (1, 10): 0.103118\n",
            "Recall @ (2, 10): 0.199154\n",
            "Recall @ (5, 10): 0.500317\n",
            "Recall @ (10, 10): 1\n",
            "******\n",
            "TfIdf Model Score:\n",
            "Recall @ (1, 10): 0.495032\n",
            "Recall @ (2, 10): 0.596882\n",
            "Recall @ (5, 10): 0.766121\n",
            "Recall @ (10, 10): 1\n"
          ],
          "name": "stdout"
        }
      ]
    }
  ]
}